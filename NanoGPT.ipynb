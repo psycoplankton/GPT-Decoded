{
 "cells": [
  {
   "cell_type": "code",
   "execution_count": 2,
   "metadata": {},
   "outputs": [],
   "source": [
    "#read the input data\n",
    "with open('input.txt', 'r', encoding = 'utf-8') as f:\n",
    "    text = f.read()"
   ]
  },
  {
   "cell_type": "code",
   "execution_count": 7,
   "metadata": {},
   "outputs": [
    {
     "data": {
      "text/plain": [
       "'First Citizen:\\nBefore we proceed any further, hear me speak.\\n\\nAll:\\nSpeak, speak.\\n\\nFirst Citizen:\\nYou'"
      ]
     },
     "execution_count": 7,
     "metadata": {},
     "output_type": "execute_result"
    }
   ],
   "source": [
    "text[:100]"
   ]
  },
  {
   "cell_type": "code",
   "execution_count": 5,
   "metadata": {},
   "outputs": [
    {
     "name": "stdout",
     "output_type": "stream",
     "text": [
      "length of dataset in characters: 1115394\n"
     ]
    }
   ],
   "source": [
    "print(\"length of dataset in characters:\", len(text))"
   ]
  },
  {
   "cell_type": "code",
   "execution_count": 7,
   "metadata": {},
   "outputs": [
    {
     "name": "stdout",
     "output_type": "stream",
     "text": [
      "\n",
      " !$&',-.3:;?ABCDEFGHIJKLMNOPQRSTUVWXYZabcdefghijklmnopqrstuvwxyz\n",
      "65\n"
     ]
    }
   ],
   "source": [
    "#here all the unique chracters that occur in this text\n",
    "chars = sorted(list(set(text)))\n",
    "vocab_size = len(chars)\n",
    "print(''.join(chars))\n",
    "print(vocab_size)"
   ]
  },
  {
   "cell_type": "code",
   "execution_count": 8,
   "metadata": {},
   "outputs": [
    {
     "name": "stdout",
     "output_type": "stream",
     "text": [
      "[20, 47, 1, 58, 46, 43, 56, 43, 2]\n",
      "['Hi there!']\n"
     ]
    }
   ],
   "source": [
    "#create a mapping from characters to integers\n",
    "stoi = {ch:i for i, ch in enumerate(chars)}\n",
    "itos = {i:ch for i, ch in enumerate(chars)}\n",
    "encode = lambda s: [stoi[c] for c in s]  # take a string, output a list of integers\n",
    "decode = lambda x: [''.join(itos[i] for i in x)] #take a sequence of integers, output a string\n",
    "\n",
    "print(encode(\"Hi there!\"))\n",
    "print(decode(encode(\"Hi there!\")))"
   ]
  },
  {
   "cell_type": "code",
   "execution_count": 9,
   "metadata": {},
   "outputs": [
    {
     "name": "stdout",
     "output_type": "stream",
     "text": [
      "torch.Size([1115394]) torch.int64\n",
      "tensor([18, 47, 56, 57, 58,  1, 15, 47, 58, 47, 64, 43, 52, 10,  0, 14, 43, 44,\n",
      "        53, 56, 43,  1, 61, 43,  1, 54, 56, 53, 41, 43, 43, 42,  1, 39, 52, 63,\n",
      "         1, 44, 59, 56, 58, 46, 43, 56,  6,  1, 46, 43, 39, 56,  1, 51, 43,  1,\n",
      "        57, 54, 43, 39, 49,  8,  0,  0, 13, 50, 50, 10,  0, 31, 54, 43, 39, 49,\n",
      "         6,  1, 57, 54, 43, 39, 49,  8,  0,  0, 18, 47, 56, 57, 58,  1, 15, 47,\n",
      "        58, 47, 64, 43, 52, 10,  0, 37, 53, 59])\n"
     ]
    }
   ],
   "source": [
    "#enocde the whole text data\n",
    "import torch\n",
    "data = torch.tensor(encode(text), dtype=torch.long)\n",
    "print(data.shape, data.dtype)\n",
    "print(data[:100])"
   ]
  },
  {
   "cell_type": "code",
   "execution_count": 10,
   "metadata": {},
   "outputs": [],
   "source": [
    "#Let's split the data into training and validation datasets\n",
    "split = int(0.9 * len(data))\n",
    "train_data = data[:split]\n",
    "val_data = data[split:]"
   ]
  },
  {
   "cell_type": "code",
   "execution_count": 15,
   "metadata": {},
   "outputs": [
    {
     "name": "stdout",
     "output_type": "stream",
     "text": [
      "when input is tensor([18]) -> output is 47\n",
      "when input is tensor([18, 47]) -> output is 56\n",
      "when input is tensor([18, 47, 56]) -> output is 57\n",
      "when input is tensor([18, 47, 56, 57]) -> output is 58\n",
      "when input is tensor([18, 47, 56, 57, 58]) -> output is 1\n",
      "when input is tensor([18, 47, 56, 57, 58,  1]) -> output is 15\n",
      "when input is tensor([18, 47, 56, 57, 58,  1, 15]) -> output is 47\n",
      "when input is tensor([18, 47, 56, 57, 58,  1, 15, 47]) -> output is 58\n"
     ]
    }
   ],
   "source": [
    "context_length = 8 # the length of input to the model \n",
    "\n",
    "\n",
    "# in this splitting, we hace considered that for a chunk size between 1 and context_length\n",
    "# in the x (input), the subsequent sequence of the same length will behave as y (target) \n",
    "# which will essentially tell the model the following\n",
    "\n",
    "# in x = [18, 3, 34, 25, 63, 6], \n",
    "# [18] -> [3]\n",
    "# [18, 3] -> [34]\n",
    "# [18, 3, 34] -> [25]\n",
    "# and so on\n",
    "\n",
    "\n",
    "x = train_data[:context_length]\n",
    "y = train_data[1:context_length+1]\n",
    "for t in range(context_length):\n",
    "    context = x[:t+1]\n",
    "    target = y[t]\n",
    "    print(f\"when input is {context} -> output is {target}\")"
   ]
  },
  {
   "cell_type": "code",
   "execution_count": 17,
   "metadata": {},
   "outputs": [
    {
     "data": {
      "text/plain": [
       "1003854"
      ]
     },
     "execution_count": 17,
     "metadata": {},
     "output_type": "execute_result"
    }
   ],
   "source": [
    "len(train_data)"
   ]
  },
  {
   "cell_type": "code",
   "execution_count": 20,
   "metadata": {},
   "outputs": [
    {
     "name": "stdout",
     "output_type": "stream",
     "text": [
      "inputs:\n",
      "torch.Size([4, 8])\n",
      "tensor([[52, 53, 52, 43,  1, 57, 53,  8],\n",
      "        [24, 13, 10,  0, 14, 43, 41, 39],\n",
      "        [ 6,  0, 21,  1, 42, 53,  1, 40],\n",
      "        [ 1, 39, 51,  1, 53, 52, 43,  1]])\n",
      "targets:\n",
      "torch.Size([4, 8])\n",
      "tensor([[53, 52, 43,  1, 57, 53,  8,  1],\n",
      "        [13, 10,  0, 14, 43, 41, 39, 59],\n",
      "        [ 0, 21,  1, 42, 53,  1, 40, 43],\n",
      "        [39, 51,  1, 53, 52, 43,  1, 58]])\n",
      "------\n",
      "when input is [52] the target: 53\n",
      "when input is [52, 53] the target: 52\n",
      "when input is [52, 53, 52] the target: 43\n",
      "when input is [52, 53, 52, 43] the target: 1\n",
      "when input is [52, 53, 52, 43, 1] the target: 57\n",
      "when input is [52, 53, 52, 43, 1, 57] the target: 53\n",
      "when input is [52, 53, 52, 43, 1, 57, 53] the target: 8\n",
      "when input is [52, 53, 52, 43, 1, 57, 53, 8] the target: 1\n",
      "---------\n",
      "when input is [24] the target: 13\n",
      "when input is [24, 13] the target: 10\n",
      "when input is [24, 13, 10] the target: 0\n",
      "when input is [24, 13, 10, 0] the target: 14\n",
      "when input is [24, 13, 10, 0, 14] the target: 43\n",
      "when input is [24, 13, 10, 0, 14, 43] the target: 41\n",
      "when input is [24, 13, 10, 0, 14, 43, 41] the target: 39\n",
      "when input is [24, 13, 10, 0, 14, 43, 41, 39] the target: 59\n",
      "---------\n",
      "when input is [6] the target: 0\n",
      "when input is [6, 0] the target: 21\n",
      "when input is [6, 0, 21] the target: 1\n",
      "when input is [6, 0, 21, 1] the target: 42\n",
      "when input is [6, 0, 21, 1, 42] the target: 53\n",
      "when input is [6, 0, 21, 1, 42, 53] the target: 1\n",
      "when input is [6, 0, 21, 1, 42, 53, 1] the target: 40\n",
      "when input is [6, 0, 21, 1, 42, 53, 1, 40] the target: 43\n",
      "---------\n",
      "when input is [1] the target: 39\n",
      "when input is [1, 39] the target: 51\n",
      "when input is [1, 39, 51] the target: 1\n",
      "when input is [1, 39, 51, 1] the target: 53\n",
      "when input is [1, 39, 51, 1, 53] the target: 52\n",
      "when input is [1, 39, 51, 1, 53, 52] the target: 43\n",
      "when input is [1, 39, 51, 1, 53, 52, 43] the target: 1\n",
      "when input is [1, 39, 51, 1, 53, 52, 43, 1] the target: 58\n",
      "---------\n",
      "==========\n"
     ]
    }
   ],
   "source": [
    "#get the blocks in batches\n",
    "batch_size = 4\n",
    "block_size = 8\n",
    "\n",
    "def get_batch(split):\n",
    "    data = train_data if split == 'train' else val_data\n",
    "    ix = torch.randint(len(data) - block_size, (batch_size,))\n",
    "    x = torch.stack([data[i:i+block_size] for i in ix])\n",
    "    y = torch.stack([data[i+1:i+block_size + 1] for i in ix])\n",
    "\n",
    "    return x, y\n",
    "\n",
    "xb, yb = get_batch('train')\n",
    "print(\"inputs:\")\n",
    "print(xb.shape)\n",
    "print(xb)\n",
    "print('targets:')\n",
    "print(yb.shape)\n",
    "print(yb)\n",
    "\n",
    "print('------')\n",
    "\n",
    "for b in range(batch_size):\n",
    "    for t in range(block_size):\n",
    "        context = xb[b, :t+1]\n",
    "        target = yb[b, t]\n",
    "        print(f\"when input is {context.tolist()} the target: {target}\")\n",
    "    print\n",
    "    print(\"---------\")\n",
    "print(\"==========\")"
   ]
  },
  {
   "cell_type": "markdown",
   "metadata": {},
   "source": [
    "Let's now first pass our data through the bigram language model to get a baseline performance "
   ]
  },
  {
   "cell_type": "code",
   "execution_count": 59,
   "metadata": {},
   "outputs": [],
   "source": [
    "import torch\n",
    "from torch import nn\n",
    "import torch.nn.functional as F\n",
    "torch.manual_seed(346)\n",
    "class BiGram(nn.Module):\n",
    "    def __init__(self, vocab_size : int):\n",
    "        super().__init__()\n",
    "        self.vocab_size = vocab_size\n",
    "\n",
    "        #create a lookup table for the embeddings of the characters in the\n",
    "        #vocabulary so that they can be easily accessed\n",
    "        self.token_embeddings_table = nn.Embedding(vocab_size, vocab_size)\n",
    "\n",
    "    #idx and targets are both (B, T) tensor of integers\n",
    "    def forward(self, idx : torch.Tensor, targets = None):\n",
    "\n",
    "\n",
    "        #B = Batch, T = Time; basically the idx, C = Channels; dimensions of embeddings\n",
    "        logits = self.token_embeddings_table(idx) # shape (B, T, C)\n",
    "\n",
    "        if targets is None:\n",
    "            loss = None\n",
    "        else:\n",
    "            B, T, C = logits.shape\n",
    "            logits = logits.view(B*T, C)\n",
    "            targets = targets.view(B*T)\n",
    "            loss = (F.cross_entropy(logits, targets))\n",
    "\n",
    "        return logits, loss\n",
    "    \n",
    "    def generate(self, idx : torch.Tensor, max_new_tokens):\n",
    "        for _ in range(max_new_tokens):\n",
    "            logits, loss = self(idx)\n",
    "\n",
    "            logits = logits[:, -1, :]\n",
    "            probs = F.softmax(logits, dim=1)\n",
    "            idx_next = torch.multinomial(probs, num_samples=1)\n",
    "            idx = torch.cat((idx, idx_next), dim=1)\n",
    "\n",
    "        return idx\n",
    "    \n",
    "    \n"
   ]
  },
  {
   "cell_type": "code",
   "execution_count": 60,
   "metadata": {},
   "outputs": [],
   "source": [
    "m = BiGram(vocab_size)"
   ]
  },
  {
   "cell_type": "code",
   "execution_count": 61,
   "metadata": {},
   "outputs": [
    {
     "name": "stdout",
     "output_type": "stream",
     "text": [
      "4.927609443664551\n",
      "2.5466856956481934\n",
      "2.60264253616333\n",
      "2.4136760234832764\n",
      "2.226475477218628\n",
      "2.5667262077331543\n",
      "2.3731019496917725\n",
      "3.078883647918701\n",
      "2.605280637741089\n",
      "2.5369832515716553\n"
     ]
    }
   ],
   "source": [
    "# create a PyTorch optimizer\n",
    "optimizer = torch.optim.AdamW(m.parameters(), lr=0.1)\n",
    "for steps in range(1000):\n",
    "    #sample a batch of data\n",
    "    xb, yb = get_batch('train')\n",
    "    logits, loss = m(xb, yb)\n",
    "    optimizer.zero_grad(set_to_none = True)\n",
    "    loss.backward()\n",
    "    optimizer.step()\n",
    "    if steps % 100 == 0:\n",
    "        print(loss.item())\n",
    "    \n"
   ]
  },
  {
   "cell_type": "code",
   "execution_count": 41,
   "metadata": {},
   "outputs": [
    {
     "name": "stdout",
     "output_type": "stream",
     "text": [
      "[\"\\nT:\\n\\nTY!\\nFowa s y'dy orach h ambe m.\\nT:\\nCLejofougr,\\nI' buthitithalenougangucomitas wichend heald!\\nAum\"]\n"
     ]
    }
   ],
   "source": [
    "#logits, loss = m(xb, yb)\n",
    "#print(loss)\n",
    "#print(loss)\n",
    "\n",
    "print(decode(m.generate(idx = torch.zeros((1, 1), dtype=torch.long), max_new_tokens = 100)[0].tolist()))"
   ]
  },
  {
   "cell_type": "markdown",
   "metadata": {},
   "source": [
    "### The mathematical trick in self-attention"
   ]
  },
  {
   "cell_type": "markdown",
   "metadata": {},
   "source": [
    "Multiplying a matrix with a lower trainagular matrix gives the self-attentionfor that matrix"
   ]
  },
  {
   "cell_type": "code",
   "execution_count": 64,
   "metadata": {},
   "outputs": [
    {
     "data": {
      "text/plain": [
       "tensor([[1., 2., 3.],\n",
       "        [5., 7., 9.],\n",
       "        [5., 7., 9.]])"
      ]
     },
     "execution_count": 64,
     "metadata": {},
     "output_type": "execute_result"
    }
   ],
   "source": [
    "a = torch.ones(size = (3, 3))\n",
    "b = torch.Tensor([[1, 2, 3],\n",
    "                 [4, 5, 6]])\n",
    "c = torch.tril(torch.ones((3, 2)))\n",
    "c @ b # is the self - attention"
   ]
  },
  {
   "cell_type": "code",
   "execution_count": 68,
   "metadata": {},
   "outputs": [],
   "source": [
    "torch.manual_seed(1337)\n",
    "B, T, C = 4, 8, 2 #batch, time, channels\n",
    "x = torch.randn(B, T, C)"
   ]
  },
  {
   "cell_type": "code",
   "execution_count": 71,
   "metadata": {},
   "outputs": [],
   "source": [
    "#continued average along each of the rows\n",
    "xbow = torch.zeros((B, T, C))\n",
    "for b in range(B):\n",
    "    for t in range(T):\n",
    "        xprev = x[b, :t+1]\n",
    "        xbow[b, t] = torch.mean(xprev, )"
   ]
  },
  {
   "cell_type": "code",
   "execution_count": 79,
   "metadata": {},
   "outputs": [
    {
     "data": {
      "text/plain": [
       "torch.Size([4, 8, 2])"
      ]
     },
     "execution_count": 79,
     "metadata": {},
     "output_type": "execute_result"
    }
   ],
   "source": [
    "#writing it using matrix multiplication\n",
    "wei = torch.tril(torch.ones(T, T))\n",
    "wei = wei/wei.sum(1, keepdim=True) #this will help in broadcasting\n",
    "xbow2 = wei @ x # (B, T, T) @ (B, T, C) -------> (B, T, C)\n",
    "xbow2.shape"
   ]
  },
  {
   "cell_type": "code",
   "execution_count": 81,
   "metadata": {},
   "outputs": [],
   "source": [
    "import torch.nn.functional as F\n",
    "#using softmax to write this\n",
    "tril = torch.tril(torch.ones(T, T))\n",
    "wei = wei.masked_fill(tril == 0, float('-inf'))\n",
    "wei = F.softmax(wei, dim=1)\n",
    "xbow3 = wei @ x\n"
   ]
  },
  {
   "cell_type": "markdown",
   "metadata": {},
   "source": [
    "### Writing the self-attention layer"
   ]
  },
  {
   "cell_type": "code",
   "execution_count": 86,
   "metadata": {},
   "outputs": [
    {
     "name": "stdout",
     "output_type": "stream",
     "text": [
      "torch.Size([4, 8, 32])\n"
     ]
    }
   ],
   "source": [
    "import torch.nn.functional as F\n",
    "import torch.nn as nn\n",
    "torch.manual_seed(1273)\n",
    "\n",
    "# B = Batch \n",
    "# T = Time\n",
    "# C = Channels or embeeding size\n",
    "B, T, C = 4, 8, 32\n",
    "x = torch.randn(B, T, C)\n",
    "\n",
    "#the initialization with zeros of weight matrix is not necessary. THse values represent the affinity\n",
    "#of each of the token with each other. The values of this wei matrix depends on the \\\n",
    "#dataset. Self attention solves this initialization problem\n",
    "\n",
    "# -----SELF ATTENTION------#\n",
    "# We make three information vectors come out of each input, key, query and value. Key and query can be \n",
    "# understood in the same sense as a youtube search task, where what we put in the search bar is the query\n",
    "# the information available with the platform is key and their dot product will tell you how mush similarity\n",
    "# present between the query and the key. \n",
    "head_size = 16\n",
    "key = nn.Linear(C, head_size, bias=False)\n",
    "query = nn.Linear(C, head_size, bias=False)\n",
    "value = nn.Linear(C, head_size, bias=False)\n",
    "k = key(x)\n",
    "q = query(x)\n",
    "wei = q @ k.transpose(-2, -1) #(B, T, 16) @ (B, 16, T) -> (B, T, T)\n",
    "\n",
    "\n",
    "tril = torch.tril(torch.ones(T, T))\n",
    "#wei = torch.zeros((T, T))\n",
    "wei = wei.masked_fill(tril == 0, float('-inf'))\n",
    "wei = F.softmax(wei, dim=1)\n",
    "\n",
    "#The value term is used to find the similarity between what is generated by the mechanism (wei) \n",
    "#and what is expected based on the input.\n",
    "v = value(x)\n",
    "out = wei @ v\n",
    "\n"
   ]
  }
 ],
 "metadata": {
  "kernelspec": {
   "display_name": "graphgan",
   "language": "python",
   "name": "python3"
  },
  "language_info": {
   "codemirror_mode": {
    "name": "ipython",
    "version": 3
   },
   "file_extension": ".py",
   "mimetype": "text/x-python",
   "name": "python",
   "nbconvert_exporter": "python",
   "pygments_lexer": "ipython3",
   "version": "3.8.18"
  }
 },
 "nbformat": 4,
 "nbformat_minor": 2
}
